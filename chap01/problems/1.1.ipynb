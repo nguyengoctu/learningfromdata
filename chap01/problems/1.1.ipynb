{
 "cells": [
  {
   "cell_type": "markdown",
   "metadata": {},
   "source": [
    "# Problem\n",
    "We have 2 opaque bags, each containing 2 balls. One bag has 2 black balls and the other has a black and a white ball. You pick a bag at random and then pick one of the balls in that bag at random. When you look at the ball it is black. You now pick the second ball from that same bag. What is the probability that this ball is also black?"
   ]
  },
  {
   "cell_type": "markdown",
   "metadata": {},
   "source": [
    "# Solution\n",
    "Let me define some events\n",
    "\n",
    "$A_1$: pick bag that has 2 black balls\n",
    "\n",
    "$A_2$: pick bag that has 1 black and 1 white ball\n",
    "\n",
    "I have:\n",
    "$P(A_1)=0.5, P(A_2)=0.5$\n",
    "\n",
    "$B$: Pick black ball at first, then I have $P(B|A_1)=1, P(B|A_2)=0.5$\n",
    "\n",
    "The second ball is black means that I must pick the bag that has 2 black balls at first, then the probability that the second ball is black is equal to $P(A_1|B)$\n",
    "$P(A_1|B)=\\frac{P(B|A_1).P(A_1)}{P(B)}=\\frac{1\\times0.5}{P(B|A_1).P(A_1)+P(B|A_2).P(A_2)}=\\frac{0.5}{1\\times0.5+0.5\\times0.5}=\\frac{2}{3}$"
   ]
  }
 ],
 "metadata": {
  "anaconda-cloud": {},
  "kernelspec": {
   "display_name": "Python [Root]",
   "language": "python",
   "name": "Python [Root]"
  },
  "language_info": {
   "codemirror_mode": {
    "name": "ipython",
    "version": 3
   },
   "file_extension": ".py",
   "mimetype": "text/x-python",
   "name": "python",
   "nbconvert_exporter": "python",
   "pygments_lexer": "ipython3",
   "version": "3.5.2"
  }
 },
 "nbformat": 4,
 "nbformat_minor": 0
}
