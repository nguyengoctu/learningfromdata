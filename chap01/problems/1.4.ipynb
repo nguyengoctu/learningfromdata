{
 "cells": [
  {
   "cell_type": "code",
   "execution_count": 86,
   "metadata": {
    "collapsed": true
   },
   "outputs": [],
   "source": [
    "import numpy as np\n",
    "from matplotlib import pyplot as plt\n",
    "from pylab import *\n",
    "from random import uniform, choice\n",
    "%matplotlib inline"
   ]
  },
  {
   "cell_type": "code",
   "execution_count": 87,
   "metadata": {
    "collapsed": true
   },
   "outputs": [],
   "source": [
    "# Calculate sign\n",
    "def sign(f, data):\n",
    "    if np.dot(f, data) >= 0:\n",
    "        return 1\n",
    "    else:\n",
    "        return -1"
   ]
  },
  {
   "cell_type": "code",
   "execution_count": 88,
   "metadata": {
    "collapsed": false
   },
   "outputs": [],
   "source": [
    "# Generate dataset\n",
    "def generate_data(N, d, target_f):\n",
    "    data = np.random.uniform(-1, 1, (N, d + 1))\n",
    "    data[:, 0] = 1\n",
    "    label = np.ones(N)\n",
    "    for i in range(N):\n",
    "        label[i] = sign(target_f, data[i])\n",
    "    return data, label"
   ]
  },
  {
   "cell_type": "code",
   "execution_count": 89,
   "metadata": {
    "collapsed": true
   },
   "outputs": [],
   "source": [
    "# Plot line\n",
    "def plot_line(f, lab, col):\n",
    "    x = np.arange(-1, 1, 0.01)\n",
    "    y = -f[0] / f[2] - f[1] * x / f[2]\n",
    "    plot(x, y, label=lab, color=col)"
   ]
  },
  {
   "cell_type": "code",
   "execution_count": 90,
   "metadata": {
    "collapsed": true
   },
   "outputs": [],
   "source": [
    "def PLA(x, y):\n",
    "    w = np.zeros(x.shape[1])\n",
    "    num_update = 0\n",
    "    flag = True\n",
    "    while flag:\n",
    "        flag = False\n",
    "        for i in range(x.shape[0]):\n",
    "            if sign(w, x[i]) * y[i] < 0:\n",
    "                flag = True\n",
    "                w += y[i] * x[i]\n",
    "                num_update += 1\n",
    "                break\n",
    "    return w, num_update"
   ]
  },
  {
   "cell_type": "code",
   "execution_count": 152,
   "metadata": {
    "collapsed": true
   },
   "outputs": [],
   "source": [
    "def PLA_random(x, y):\n",
    "    w = np.zeros(x.shape[1])\n",
    "    num_update = 0\n",
    "    flag = True\n",
    "    while flag:\n",
    "        misclassified_index = []\n",
    "        for i in range(x.shape[0]):\n",
    "            if sign(w, x[i]) * y[i] < 0:\n",
    "                misclassified_index.append(i)\n",
    "        if len(misclassified_index) == 0:\n",
    "            flag = False\n",
    "        else:\n",
    "            i = choice(misclassified_index)\n",
    "            w += y[i] * x[i]\n",
    "            num_update += 1\n",
    "    return w, num_update"
   ]
  },
  {
   "cell_type": "code",
   "execution_count": 91,
   "metadata": {
    "collapsed": true
   },
   "outputs": [],
   "source": [
    "def plot_data(x, y):\n",
    "    for i in range(x.shape[0]):\n",
    "        if y[i] == 1:\n",
    "            plt.scatter(x[i][1], x[i][2], color='red')\n",
    "        else:\n",
    "            plt.scatter(x[i][1], x[i][2], color='blue')"
   ]
  },
  {
   "cell_type": "code",
   "execution_count": 153,
   "metadata": {
    "collapsed": false
   },
   "outputs": [],
   "source": [
    "def test(N, d):\n",
    "# N = 20\n",
    "# d = 2\n",
    "    # Generate target line\n",
    "#     x1 = uniform(-1, 1)\n",
    "#     x2 = uniform(-1, 1)\n",
    "#     y1 = uniform(-1, 1)\n",
    "#     y2 = uniform(-1, 1)\n",
    "    rand_point = np.random.uniform(-0.5, 0.5, d + 1)\n",
    "    rand_point[0] = 1\n",
    "    \n",
    "    target_f = np.random.uniform(-1, 1, d + 1)\n",
    "    target_f[0] = 0\n",
    "    target_f[0] = -np.dot(rand_point, target_f)\n",
    "\n",
    "    # Generate data\n",
    "    x, y = generate_data(N, d, target_f)\n",
    "#     w, num_iter = PLA(x, y)\n",
    "    w, num_iter = PLA_random(x, y)\n",
    "#     plt.xlim(-1, 1)\n",
    "#     plt.ylim(-1, 1)\n",
    "#     plot_line(w, \"final hypothesis g\", 'black')\n",
    "#     plot_line(target_f, \"target function\", 'green')\n",
    "#     plot_data(x, y)\n",
    "    print(\"Number of iterations:\",num_iter)\n",
    "    return num_iter\n"
   ]
  },
  {
   "cell_type": "code",
   "execution_count": 130,
   "metadata": {
    "collapsed": false
   },
   "outputs": [
    {
     "name": "stdout",
     "output_type": "stream",
     "text": [
      "Number of iterations: 169\n"
     ]
    },
    {
     "data": {
      "image/png": "[encoded data removed]",
      "text/plain": [
       "<matplotlib.figure.Figure at 0xafb9be0>"
      ]
     },
     "metadata": {},
     "output_type": "display_data"
    }
   ],
   "source": [
    "test(20, 2)"
   ]
  },
  {
   "cell_type": "code",
   "execution_count": 139,
   "metadata": {
    "collapsed": false
   },
   "outputs": [
    {
     "name": "stdout",
     "output_type": "stream",
     "text": [
      "Number of iterations: 31\n"
     ]
    }
   ],
   "source": [
    "test(100, 2)"
   ]
  },
  {
   "cell_type": "code",
   "execution_count": 140,
   "metadata": {
    "collapsed": false
   },
   "outputs": [
    {
     "name": "stdout",
     "output_type": "stream",
     "text": [
      "Number of iterations: 168\n"
     ]
    }
   ],
   "source": [
    "test(1000, 2)"
   ]
  },
  {
   "cell_type": "code",
   "execution_count": 141,
   "metadata": {
    "collapsed": false
   },
   "outputs": [
    {
     "name": "stdout",
     "output_type": "stream",
     "text": [
      "Number of iterations: 3007\n"
     ]
    }
   ],
   "source": [
    "test(1000, 10)"
   ]
  },
  {
   "cell_type": "code",
   "execution_count": 154,
   "metadata": {
    "collapsed": false
   },
   "outputs": [
    {
     "name": "stdout",
     "output_type": "stream",
     "text": [
      "Number of iterations: 4186\n",
      "Number of iterations: 6780\n",
      "Number of iterations: 5813\n",
      "Number of iterations: 3391\n",
      "Number of iterations: 7708\n",
      "Number of iterations: 2151\n",
      "Number of iterations: 3660\n",
      "Number of iterations: 15067\n",
      "Number of iterations: 6041\n",
      "Number of iterations: 5582\n",
      "Number of iterations: 3389\n",
      "Number of iterations: 6121\n",
      "Number of iterations: 16543\n",
      "Number of iterations: 10316\n",
      "Number of iterations: 2684\n",
      "Number of iterations: 5482\n",
      "Number of iterations: 2023\n",
      "Number of iterations: 6335\n",
      "Number of iterations: 2589\n",
      "Number of iterations: 3922\n",
      "Number of iterations: 7908\n",
      "Number of iterations: 4379\n",
      "Number of iterations: 5128\n",
      "Number of iterations: 2641\n",
      "Number of iterations: 4394\n",
      "Number of iterations: 5672\n",
      "Number of iterations: 785\n",
      "Number of iterations: 15619\n",
      "Number of iterations: 4291\n",
      "Number of iterations: 5897\n",
      "Number of iterations: 6513\n",
      "Number of iterations: 9802\n",
      "Number of iterations: 3082\n",
      "Number of iterations: 6390\n",
      "Number of iterations: 4277\n",
      "Number of iterations: 3937\n",
      "Number of iterations: 4670\n",
      "Number of iterations: 23518\n",
      "Number of iterations: 4048\n",
      "Number of iterations: 2454\n",
      "Number of iterations: 7646\n",
      "Number of iterations: 1369\n",
      "Number of iterations: 3187\n",
      "Number of iterations: 1992\n",
      "Number of iterations: 2319\n",
      "Number of iterations: 3180\n",
      "Number of iterations: 1926\n",
      "Number of iterations: 2899\n",
      "Number of iterations: 10175\n",
      "Number of iterations: 2720\n",
      "Number of iterations: 2445\n",
      "Number of iterations: 6909\n",
      "Number of iterations: 9173\n",
      "Number of iterations: 6202\n",
      "Number of iterations: 20192\n",
      "Number of iterations: 11588\n",
      "Number of iterations: 7096\n",
      "Number of iterations: 7187\n",
      "Number of iterations: 3353\n",
      "Number of iterations: 4621\n",
      "Number of iterations: 5776\n",
      "Number of iterations: 5712\n",
      "Number of iterations: 2674\n",
      "Number of iterations: 1227\n",
      "Number of iterations: 4107\n",
      "Number of iterations: 3348\n",
      "Number of iterations: 4115\n",
      "Number of iterations: 6179\n",
      "Number of iterations: 4525\n",
      "Number of iterations: 1936\n",
      "Number of iterations: 4710\n",
      "Number of iterations: 13643\n",
      "Number of iterations: 1511\n",
      "Number of iterations: 9413\n",
      "Number of iterations: 3528\n",
      "Number of iterations: 7174\n",
      "Number of iterations: 19885\n",
      "Number of iterations: 4442\n",
      "Number of iterations: 2951\n",
      "Number of iterations: 7693\n",
      "Number of iterations: 7288\n",
      "Number of iterations: 4776\n",
      "Number of iterations: 4714\n",
      "Number of iterations: 12869\n",
      "Number of iterations: 5986\n",
      "Number of iterations: 2568\n",
      "Number of iterations: 11108\n",
      "Number of iterations: 9219\n",
      "Number of iterations: 5636\n",
      "Number of iterations: 2581\n",
      "Number of iterations: 5695\n",
      "Number of iterations: 3676\n",
      "Number of iterations: 6623\n",
      "Number of iterations: 11124\n",
      "Number of iterations: 5972\n",
      "Number of iterations: 8693\n",
      "Number of iterations: 5215\n",
      "Number of iterations: 5090\n",
      "Number of iterations: 10122\n",
      "Number of iterations: 3710\n"
     ]
    }
   ],
   "source": [
    "num_iters = []\n",
    "for i in range(100):\n",
    "    num_iters.append(test(1000, 10))"
   ]
  },
  {
   "cell_type": "code",
   "execution_count": 155,
   "metadata": {
    "collapsed": false
   },
   "outputs": [
    {
     "data": {
      "text/plain": [
       "(array([ 21.,  31.,  25.,   9.,   6.,   2.,   3.,   0.,   2.,   1.]),\n",
       " array([   785. ,   3058.3,   5331.6,   7604.9,   9878.2,  12151.5,\n",
       "         14424.8,  16698.1,  18971.4,  21244.7,  23518. ]),\n",
       " <a list of 10 Patch objects>)"
      ]
     },
     "execution_count": 155,
     "metadata": {},
     "output_type": "execute_result"
    },
    {
     "data": {
      "image/png": "[encoded data removed]",
      "text/plain": [
       "<matplotlib.figure.Figure at 0xb54e550>"
      ]
     },
     "metadata": {},
     "output_type": "display_data"
    }
   ],
   "source": [
    "plt.hist(num_iters)"
   ]
  },
  {
   "cell_type": "markdown",
   "metadata": {
    "collapsed": true
   },
   "source": [
    "number of updates ~ $O(Nd)$"
   ]
  }
 ],
 "metadata": {
  "anaconda-cloud": {},
  "kernelspec": {
   "display_name": "Python [Root]",
   "language": "python",
   "name": "Python [Root]"
  },
  "language_info": {
   "codemirror_mode": {
    "name": "ipython",
    "version": 3
   },
   "file_extension": ".py",
   "mimetype": "text/x-python",
   "name": "python",
   "nbconvert_exporter": "python",
   "pygments_lexer": "ipython3",
   "version": "3.5.2"
  }
 },
 "nbformat": 4,
 "nbformat_minor": 0
}
